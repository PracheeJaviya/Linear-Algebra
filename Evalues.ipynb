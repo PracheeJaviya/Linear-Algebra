{
 "cells": [
  {
   "cell_type": "markdown",
   "metadata": {},
   "source": [
    "# EIGENVALUES and EIGENVECTORS\n",
    "## Prachee Javiya\n",
    "---\n",
    "# Notes\n",
    "\n",
    "  * The most basic equation for eigenvalues is $Ax=\\lambda x$. The number $\\lambda$ is an eigenvalue of A.\n",
    "   * To solve the above equation, calculate the roots of $(A-\\lambda I)x=0$\n",
    "   * Calculate the eigenvectors corresponding to an eigenvalue\n",
    "  * The eigenvectors \"x\" do NOT change direction when you multiply by A.\n",
    "  * Eigenvectors make understanding linear transformations easy.\n",
    "  * The eigenvalue $\\lambda$ tells whether the special vector x is stretched or shrunk or reversed or left unchanged-when it is multiplied by A\n",
    "   * When $\\lambda$ is 0, the vector x lies in the nullspace of A.\n",
    "  * If A is the identity matrix, every vector has Ax= x. All vectors are eigenvectors of I.\n",
    "  * |A-$\\lambda$I|=0 ,always. Reason:For a particular value of $\\lambda$, the vector Ax is parallel to $\\lambda$x.\n",
    " #### Calculating eigenvectors and eigenvalues :"
   ]
  },
  {
   "cell_type": "markdown",
   "metadata": {},
   "source": [
    "* The 2x2 identity matrix has $\\lambda$=1 which occurs twice."
   ]
  },
  {
   "cell_type": "code",
   "execution_count": 8,
   "metadata": {},
   "outputs": [],
   "source": [
    "import sympy as sp"
   ]
  },
  {
   "cell_type": "code",
   "execution_count": 9,
   "metadata": {},
   "outputs": [
    {
     "data": {
      "text/plain": [
       "{1: 2}"
      ]
     },
     "execution_count": 9,
     "metadata": {},
     "output_type": "execute_result"
    }
   ],
   "source": [
    "A=sp.Matrix([[1,0],[0,1]])\n",
    "A.eigenvals()"
   ]
  },
  {
   "cell_type": "markdown",
   "metadata": {},
   "source": [
    "* Eigenvalues for a 2x2 permutation matrix \n",
    " * any x in the plane is unchanged by P. The equation hence formed is Px=x\n",
    " * Any x perpendicular to the plane, equation becomes Px=0"
   ]
  },
  {
   "cell_type": "code",
   "execution_count": 10,
   "metadata": {},
   "outputs": [
    {
     "data": {
      "text/plain": [
       "{-1: 1, 1: 1}"
      ]
     },
     "execution_count": 10,
     "metadata": {},
     "output_type": "execute_result"
    }
   ],
   "source": [
    "B=sp.Matrix([[0,1],[1,0]])\n",
    "B.eigenvals()"
   ]
  },
  {
   "cell_type": "markdown",
   "metadata": {},
   "source": [
    "Let λ be an eigenvalue of P for the eigenvector v. You have $\\lambda^2v=P^2v=Pv=\\lambda v$. Because v≠0 it must be $\\lambda^2=\\lambda$. The solutions of the last equation are λ1=0 and λ2=1. Those are the only possible eigenvalues the projection might have."
   ]
  },
  {
   "cell_type": "markdown",
   "metadata": {},
   "source": [
    "### Properties of eigenvectors and eigenvalues:\n",
    " > Trace of the matrix A is equal to the sum of its eigenvalues. </br>\n",
    " > Additive property for calculating Evalues of two matrices does not hold.  \n",
    "      >$ Ax=\\lambda x$   \n",
    "      >$ Bx=\\gamma x$   \n",
    "      >$ (A+B)x\\neq (\\lambda+\\gamma) x $   \n",
    " > Because it is not necessary that the vector x will be same for both matrices A and B"
   ]
  },
  {
   "cell_type": "markdown",
   "metadata": {},
   "source": [
    "When we take a multiple of I (eg 3I) the eigenvalues get multiplied by a factor 3 and the eigenvectors remain **same**"
   ]
  },
  {
   "cell_type": "code",
   "execution_count": 11,
   "metadata": {},
   "outputs": [
    {
     "data": {
      "text/plain": [
       "{4: 1, 2: 1}"
      ]
     },
     "execution_count": 11,
     "metadata": {},
     "output_type": "execute_result"
    }
   ],
   "source": [
    "C=sp.Matrix([[3,1],[1,3]])\n",
    "C.eigenvals()"
   ]
  },
  {
   "cell_type": "code",
   "execution_count": 12,
   "metadata": {},
   "outputs": [
    {
     "data": {
      "text/plain": [
       "[(2, 1, [Matrix([\n",
       "   [-1],\n",
       "   [ 1]])]), (4, 1, [Matrix([\n",
       "   [1],\n",
       "   [1]])])]"
      ]
     },
     "execution_count": 12,
     "metadata": {},
     "output_type": "execute_result"
    }
   ],
   "source": [
    "C.eigenvects()"
   ]
  },
  {
   "cell_type": "markdown",
   "metadata": {},
   "source": [
    "* Eigenvalues of anti-symmetric matrices are purely imaginary\n",
    "* Repeated eigenvalues leads to shortage of eigenvectors(not enough linearly independant eigenvectors)</br>\n",
    "  _DEGENERATE MATRIX_"
   ]
  },
  {
   "cell_type": "code",
   "execution_count": 13,
   "metadata": {},
   "outputs": [
    {
     "data": {
      "text/plain": [
       "{3: 2}"
      ]
     },
     "execution_count": 13,
     "metadata": {},
     "output_type": "execute_result"
    }
   ],
   "source": [
    "D=sp.Matrix([[3,1],[0,3]])\n",
    "D.eigenvals()"
   ]
  },
  {
   "cell_type": "code",
   "execution_count": 14,
   "metadata": {},
   "outputs": [
    {
     "data": {
      "text/plain": [
       "[(3, 2, [Matrix([\n",
       "   [1],\n",
       "   [0]])])]"
      ]
     },
     "execution_count": 14,
     "metadata": {},
     "output_type": "execute_result"
    }
   ],
   "source": [
    "D.eigenvects()"
   ]
  },
  {
   "cell_type": "markdown",
   "metadata": {},
   "source": [
    "### DIAGONALISATION \n",
    "---\n",
    "* "
   ]
  },
  {
   "cell_type": "code",
   "execution_count": null,
   "metadata": {},
   "outputs": [],
   "source": []
  }
 ],
 "metadata": {
  "kernelspec": {
   "display_name": "Python 3",
   "language": "python",
   "name": "python3"
  },
  "language_info": {
   "codemirror_mode": {
    "name": "ipython",
    "version": 3
   },
   "file_extension": ".py",
   "mimetype": "text/x-python",
   "name": "python",
   "nbconvert_exporter": "python",
   "pygments_lexer": "ipython3",
   "version": "3.7.4"
  }
 },
 "nbformat": 4,
 "nbformat_minor": 4
}
