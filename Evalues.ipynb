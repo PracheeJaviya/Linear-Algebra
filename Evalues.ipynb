{
 "cells": [
  {
   "cell_type": "markdown",
   "metadata": {},
   "source": [
    "# EIGENVALUES and EIGENVECTORS\n",
    "## Prachee Javiya\n",
    "---\n",
    "# Notes\n",
    "\n",
    "  * The most basic equation for eigenvalues is $Ax=\\lambda x$. The number $\\lambda$ is an eigenvalue of A.\n",
    "   * To solve the above equation, calculate the roots of $(A-\\lambda I)x=0$\n",
    "   * Calculate the eigenvectors corresponding to an eigenvalue\n",
    "  * The eigenvectors \"x\" do NOT change direction when you multiply by A.\n",
    "  * Eigenvectors make understanding linear transformations easy.\n",
    "  * The eigenvalue $\\lambda$ tells whether the special vector x is stretched or shrunk or reversed or left unchanged-when it is multiplied by A\n",
    "   * When $\\lambda$ is 0, the vector x lies in the nullspace of A.\n",
    "  * If A is the identity matrix, every vector has Ax= x. All vectors are eigenvectors of I.\n",
    "  * |A-$\\lambda$I|=0 ,always. Reason:For a particular value of $\\lambda$, the vector Ax is parallel to $\\lambda$x. \n",
    " #### Calculating eigenvectors and eigenvalues :"
   ]
  },
  {
   "cell_type": "markdown",
   "metadata": {},
   "source": [
    "* The 2x2 identity matrix has $\\lambda$=1 which occurs twice."
   ]
  },
  {
   "cell_type": "code",
   "execution_count": 8,
   "metadata": {},
   "outputs": [],
   "source": [
    "import sympy as sp"
   ]
  },
  {
   "cell_type": "code",
   "execution_count": 9,
   "metadata": {},
   "outputs": [
    {
     "data": {
      "text/plain": [
       "{1: 2}"
      ]
     },
     "execution_count": 9,
     "metadata": {},
     "output_type": "execute_result"
    }
   ],
   "source": [
    "A=sp.Matrix([[1,0],[0,1]])\n",
    "A.eigenvals()"
   ]
  },
  {
   "cell_type": "markdown",
   "metadata": {},
   "source": [
    "* Eigenvalues for a 2x2 permutation matrix \n",
    " * any x in the plane is unchanged by P. The equation hence formed is Px=x\n",
    " * Any x perpendicular to the plane, equation becomes Px=0"
   ]
  },
  {
   "cell_type": "code",
   "execution_count": 10,
   "metadata": {},
   "outputs": [
    {
     "data": {
      "text/plain": [
       "{-1: 1, 1: 1}"
      ]
     },
     "execution_count": 10,
     "metadata": {},
     "output_type": "execute_result"
    }
   ],
   "source": [
    "B=sp.Matrix([[0,1],[1,0]])\n",
    "B.eigenvals()"
   ]
  },
  {
   "cell_type": "markdown",
   "metadata": {},
   "source": [
    "Let λ be an eigenvalue of P for the eigenvector v. You have $\\lambda^2v=P^2v=Pv=\\lambda v$. Because v≠0 it must be $\\lambda^2=\\lambda$. The solutions of the last equation are λ1=0 and λ2=1. Those are the only possible eigenvalues the projection might have."
   ]
  },
  {
   "cell_type": "markdown",
   "metadata": {},
   "source": [
    "### Properties of eigenvectors and eigenvalues:\n",
    " - Trace of the matrix A is equal to the sum of its eigenvalues. </br>\n",
    " - Additive property for calculating Evalues of two matrices does not hold.  \n",
    "      >$ Ax=\\lambda x$   \n",
    "      >$ Bx=\\gamma x$   \n",
    "      >$ (A+B)x\\neq (\\lambda+\\gamma) x $   \n",
    " - Because it is not necessary that the vector x will be same for both matrices A and B\n",
    " - A matrix A will have zero as an eigenvalue if and only if it is singular. </br>\n",
    " - Eigenvalue and eigenvector of $A^{-1}$ $$ Av=\\lambda v$$ Multiplying both sides by $A^{-1}$, we get, $$ v=\\lambda A^{-1}v$$ $$=A^{-1}v=\\frac{1}{\\lambda} v $$ \n",
    " \n",
    "**NOTE** : </br>\n",
    " When $\\lambda=0, A^{-1}$ does not exist."
   ]
  },
  {
   "cell_type": "markdown",
   "metadata": {},
   "source": [
    "- When we take a multiple of I (eg 3I) the eigenvalues get multiplied by a factor 3 and the eigenvectors remain **same**"
   ]
  },
  {
   "cell_type": "code",
   "execution_count": 11,
   "metadata": {},
   "outputs": [
    {
     "data": {
      "text/plain": [
       "{4: 1, 2: 1}"
      ]
     },
     "execution_count": 11,
     "metadata": {},
     "output_type": "execute_result"
    }
   ],
   "source": [
    "C=sp.Matrix([[3,1],[1,3]])\n",
    "C.eigenvals()"
   ]
  },
  {
   "cell_type": "code",
   "execution_count": 12,
   "metadata": {},
   "outputs": [
    {
     "data": {
      "text/plain": [
       "[(2, 1, [Matrix([\n",
       "   [-1],\n",
       "   [ 1]])]), (4, 1, [Matrix([\n",
       "   [1],\n",
       "   [1]])])]"
      ]
     },
     "execution_count": 12,
     "metadata": {},
     "output_type": "execute_result"
    }
   ],
   "source": [
    "C.eigenvects()"
   ]
  },
  {
   "cell_type": "markdown",
   "metadata": {},
   "source": [
    "* Eigenvalues of anti-symmetric matrices are purely imaginary\n",
    "* Repeated eigenvalues leads to shortage of eigenvectors(not enough linearly independant eigenvectors)</br>\n",
    "  _DEGENERATE MATRIX_"
   ]
  },
  {
   "cell_type": "code",
   "execution_count": 13,
   "metadata": {},
   "outputs": [
    {
     "data": {
      "text/plain": [
       "{3: 2}"
      ]
     },
     "execution_count": 13,
     "metadata": {},
     "output_type": "execute_result"
    }
   ],
   "source": [
    "D=sp.Matrix([[3,1],[0,3]])\n",
    "D.eigenvals()"
   ]
  },
  {
   "cell_type": "code",
   "execution_count": 14,
   "metadata": {},
   "outputs": [
    {
     "data": {
      "text/plain": [
       "[(3, 2, [Matrix([\n",
       "   [1],\n",
       "   [0]])])]"
      ]
     },
     "execution_count": 14,
     "metadata": {},
     "output_type": "execute_result"
    }
   ],
   "source": [
    "D.eigenvects()"
   ]
  },
  {
   "cell_type": "markdown",
   "metadata": {},
   "source": [
    "### DIAGONALISATION \n",
    "##### A matrix is diagonalisable when there exists a matrix S and $\\Lambda$ such that $$A=S\\Lambda S^{-1}$$\n",
    "---\n",
    "* Λ is the diagonal matrix, with the entries being the corresponding eigenvalues of A\n",
    "* $AS=S\\Lambda$ (Be careful when the matrix S is imaginary,conjugate terms will take part, $A^H={A^T}^C$,where $A^H$ is a hermetian matrix\n",
    "* If a square matrix A has a full set of eigenvectors, then the matrix can be constructed by this formula.\n",
    "* Multiply by $S^{-1}$ on both sides to get the diagonal matrix i.e. $$AS=S \\Lambda $$ $$S^{-1}AS=\\Lambda$$ \n",
    "\n",
    "_Diagonalizability is concerned with the number of eigenvectors - too few or enough_"
   ]
  },
  {
   "cell_type": "markdown",
   "metadata": {},
   "source": [
    "#### AM/GM\n",
    "---\n",
    "AM(Algebraic multiplicity) is the number of times an **eigenvalue** appears in the characteristic equation.</br>\n",
    "GM(Geometric multiplicity) is the number of **eigenvectors** corresponding to an eigenvalue."
   ]
  },
  {
   "cell_type": "markdown",
   "metadata": {},
   "source": [
    "### Real Symmetric Matrices-Eigenvalues\n",
    "---\n",
    "- When $A=A^T$ for any matrix A, it is known as a symmetric matrix\n",
    "- Evalues for a symmetric matrix are real\n",
    "- Eigenvectors of real symmetric matrices are **orthogonal** \n",
    "$\\therefore$ the matrix S will have orthonormal columns </br>\n",
    "And, $$A=Q\\Lambda Q^{-1}$$\n",
    "- For orthonormal columns, $A^T=A^{-1}$\n",
    "$$\\therefore A=Q\\Lambda Q^T$$\n",
    "- Every symmetric matrix is a combination of perpendicular projection matrices"
   ]
  },
  {
   "cell_type": "markdown",
   "metadata": {},
   "source": [
    "### Difference equation\n",
    "---\n",
    "$$u_{k+1}=Au_{k}$$\n",
    "Given vector $u_0$,</br>\n",
    "$u_1=Au_0, u_2=A^2u_0.... u_k=A^ku_0$\n",
    "To solve, $$u_0=c_1x_1+c_2x_2+..+c_nx_n=Sc$$\n",
    "$$Au_0=\\lambda_1x_1+c_2\\lambda_2x_2+..+c_n\\lambda_nx_n$$ \n",
    "$$A^{100}u_0=\\lambda_1^{100}x_1+c_2\\lambda_2^{100}x_2+..+c_n\\lambda_n^{100}x_n$$\n",
    "$$=\\Lambda^{100}Sc$$"
   ]
  },
  {
   "cell_type": "markdown",
   "metadata": {},
   "source": [
    "## Fibonacci equation\n",
    "---\n",
    "$$F_{k+2}=F_{k+1}+F_k$$\n",
    "$$F_{k+1}=F_{k+1}$$\n",
    "$$ u_k=\n",
    "\\begin{bmatrix}\n",
    "F_{k+1}\\\\\n",
    "F_k\n",
    "\\end{bmatrix}\n",
    "$$\n",
    "$$u_{k+1}=\n",
    "\\begin{bmatrix}\n",
    "1 & 1\\\\ 1 & 0\n",
    "\\end{bmatrix}u_k\n",
    "$$"
   ]
  },
  {
   "cell_type": "markdown",
   "metadata": {},
   "source": [
    "## Positive Definiteness of symmetric matrix\n",
    "How to tell if a matrix is positive symmetric?\n",
    "$$\\begin{bmatrix}\n",
    "a & b \\\\\n",
    "c & d\n",
    "\\end{bmatrix}\n",
    "$$\n",
    " 1. Eigenvalues are positive\n",
    " 2. $a>0 , ac-b^2>0$\n",
    " 3. $x^TAx>0$</br>\n",
    " \n",
    "**Borderline case example,**"
   ]
  },
  {
   "cell_type": "code",
   "execution_count": 5,
   "metadata": {},
   "outputs": [
    {
     "data": {
      "text/latex": [
       "$\\displaystyle \\left[\\begin{matrix}2 & 6\\\\6 & 18\\end{matrix}\\right]$"
      ],
      "text/plain": [
       "Matrix([\n",
       "[2,  6],\n",
       "[6, 18]])"
      ]
     },
     "execution_count": 5,
     "metadata": {},
     "output_type": "execute_result"
    }
   ],
   "source": [
    "import sympy as sp\n",
    "A=sp.Matrix([[2,6],[6,18]])\n",
    "A"
   ]
  },
  {
   "cell_type": "markdown",
   "metadata": {},
   "source": [
    "Testing:\n",
    "$$\n",
    "\\begin{bmatrix}\n",
    "x_1 & x_2\n",
    "\\end{bmatrix}\n",
    "\\begin{bmatrix}\n",
    "2 & 6\\\\\n",
    "6 & 18\n",
    "\\end{bmatrix}\n",
    "\\begin{bmatrix}\n",
    "x_1 \\\\\n",
    "x_2\n",
    "\\end{bmatrix}\n",
    "$$\n",
    "\n",
    "$$=2x_1^2+12x_1x_2+18x_2^2$$\n",
    "\n",
    "Quadratic form : $ax^2+2bxy+cy^2$</BR>\n",
    "**IF THE ABOVE QUADRATIC IS POSITIVE FOR ALL x1,x2, THEN A IS POSITIVE DEFINITE**</br>\n",
    "In the above case, the matrix is definite psitive for all values greater than 18"
   ]
  },
  {
   "cell_type": "markdown",
   "metadata": {},
   "source": [
    "### Left Inverse/Right inverse and Pseude inverse\n",
    "---\n",
    "- Left Inverse\n",
    "  - For a full rank(columns are independant) mxn matrix,  $(A^TA)^{-1}A^T$ is the left inverse of the matrix A.\n",
    "  - A rectangular matrix cannot have two sided inverse because $m \\neq n $ and there will be some free variables around\n",
    "- Right Inverse \n",
    "  - $A^T(AA^T)^{-1}$ is the right inverse.$AA^T(AA^T)^{-1}=I$)\n",
    "  - We have independant rows and $N(A^T)={0}$.\n",
    "  - Rank r=m<n\n",
    "  - Infinite solutions               \n",
    "- Pseudo Inverse\n",
    "  - It comess from SVD. $ A=U\\Sigma V^T$ and \n",
    "$$ \\Sigma=\n",
    "\\begin{bmatrix}\n",
    "\\sigma_1 &0&0&0&0\\\\\n",
    "0&\\sigma_2&0&0&0\\\\\n",
    "0&0&\\sigma_3&0&0\\\\\n",
    "0&0&0&.&. \\\\\n",
    ".&.&.&.&\\sigma_r\n",
    "\\end{bmatrix}\n",
    "_{m\\times n}\n",
    "$$\n",
    "then,Pseudo inverse of $\\Sigma$ will be,\n",
    "$$\\Sigma^+=\n",
    "\\begin{bmatrix}\n",
    "\\frac{1}{\\sigma_1} &0&0&0&0\\\\\n",
    "0&\\frac{1}{\\sigma_2}&0&0&0\\\\\n",
    "0&0&\\frac{1}{\\sigma_3}&0&0\\\\\n",
    "0&0&0&.&. \\\\\n",
    ".&.&.&.&\\frac{1}{\\sigma_r}\n",
    "\\end{bmatrix}\n",
    "_{n\\times m}\n",
    "$$"
   ]
  },
  {
   "cell_type": "code",
   "execution_count": null,
   "metadata": {},
   "outputs": [],
   "source": []
  }
 ],
 "metadata": {
  "kernelspec": {
   "display_name": "Python 3",
   "language": "python",
   "name": "python3"
  },
  "language_info": {
   "codemirror_mode": {
    "name": "ipython",
    "version": 3
   },
   "file_extension": ".py",
   "mimetype": "text/x-python",
   "name": "python",
   "nbconvert_exporter": "python",
   "pygments_lexer": "ipython3",
   "version": "3.7.4"
  }
 },
 "nbformat": 4,
 "nbformat_minor": 4
}
